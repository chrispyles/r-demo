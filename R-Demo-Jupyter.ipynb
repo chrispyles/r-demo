{
 "cells": [
  {
   "cell_type": "markdown",
   "metadata": {},
   "source": [
    "# Correlation, regression, and prediction\n",
    "\n",
    "_Adapted from [Psych 167AC module](https://github.com/ds-modules/PSYCH-167AC)_\n",
    "\n",
    "One of the most important and interesting aspects of data science is making predictions about the future. How can we learn about temperatures a few decades from now by analyzing historical data about climate change and pollution? Based on a person's social media profile, what conclusions can we draw about their interests? How can we use a patient's medical history to judge how well he or she will respond to a treatment?\n",
    "\n",
    "Run the cell below to import the code we'll use in this notebook.\n",
    "Don't worry about getting an output, simply run the cell."
   ]
  },
  {
   "cell_type": "code",
   "execution_count": 17,
   "metadata": {},
   "outputs": [],
   "source": [
    "library(ggplot2)\n",
    "restore = list(repr.plot.width=4, repr.plot.height=3.5)\n",
    "options(restore)"
   ]
  },
  {
   "cell_type": "markdown",
   "metadata": {},
   "source": [
    "In this module, you will look at two **correlated** phenomena and predict unseen data points!\n",
    "\n",
    "We will be using data from the online data archive of Prof. Larry Winner of the University of Florida. The file *hybrid* contains data on hybrid passenger cars sold in the United States from 1997 to 2013. In order to analyze the data, we must first **import** it to our Jupyter notebook and **create a table.**"
   ]
  },
  {
   "cell_type": "code",
   "execution_count": 7,
   "metadata": {},
   "outputs": [
    {
     "data": {
      "text/html": [
       "<table>\n",
       "<caption>A data.frame: 6 × 6</caption>\n",
       "<thead>\n",
       "\t<tr><th scope=col>vehicle</th><th scope=col>year</th><th scope=col>msrp</th><th scope=col>acceleration</th><th scope=col>mpg</th><th scope=col>class</th></tr>\n",
       "\t<tr><th scope=col>&lt;fct&gt;</th><th scope=col>&lt;int&gt;</th><th scope=col>&lt;dbl&gt;</th><th scope=col>&lt;dbl&gt;</th><th scope=col>&lt;dbl&gt;</th><th scope=col>&lt;fct&gt;</th></tr>\n",
       "</thead>\n",
       "<tbody>\n",
       "\t<tr><td>Prius (1st Gen)</td><td>1997</td><td>24509.74</td><td>7.46</td><td>41.26</td><td>Compact   </td></tr>\n",
       "\t<tr><td>Tino           </td><td>2000</td><td>35354.97</td><td>8.20</td><td>54.10</td><td>Compact   </td></tr>\n",
       "\t<tr><td>Prius (2nd Gen)</td><td>2000</td><td>26832.25</td><td>7.97</td><td>45.23</td><td>Compact   </td></tr>\n",
       "\t<tr><td>Insight        </td><td>2000</td><td>18936.41</td><td>9.52</td><td>53.00</td><td>Two Seater</td></tr>\n",
       "\t<tr><td>Civic (1st Gen)</td><td>2001</td><td>25833.38</td><td>7.04</td><td>47.04</td><td>Compact   </td></tr>\n",
       "\t<tr><td>Insight        </td><td>2001</td><td>19036.71</td><td>9.52</td><td>53.00</td><td>Two Seater</td></tr>\n",
       "</tbody>\n",
       "</table>\n"
      ],
      "text/latex": [
       "A data.frame: 6 × 6\n",
       "\\begin{tabular}{r|llllll}\n",
       " vehicle & year & msrp & acceleration & mpg & class\\\\\n",
       " <fct> & <int> & <dbl> & <dbl> & <dbl> & <fct>\\\\\n",
       "\\hline\n",
       "\t Prius (1st Gen) & 1997 & 24509.74 & 7.46 & 41.26 & Compact   \\\\\n",
       "\t Tino            & 2000 & 35354.97 & 8.20 & 54.10 & Compact   \\\\\n",
       "\t Prius (2nd Gen) & 2000 & 26832.25 & 7.97 & 45.23 & Compact   \\\\\n",
       "\t Insight         & 2000 & 18936.41 & 9.52 & 53.00 & Two Seater\\\\\n",
       "\t Civic (1st Gen) & 2001 & 25833.38 & 7.04 & 47.04 & Compact   \\\\\n",
       "\t Insight         & 2001 & 19036.71 & 9.52 & 53.00 & Two Seater\\\\\n",
       "\\end{tabular}\n"
      ],
      "text/markdown": [
       "\n",
       "A data.frame: 6 × 6\n",
       "\n",
       "| vehicle &lt;fct&gt; | year &lt;int&gt; | msrp &lt;dbl&gt; | acceleration &lt;dbl&gt; | mpg &lt;dbl&gt; | class &lt;fct&gt; |\n",
       "|---|---|---|---|---|---|\n",
       "| Prius (1st Gen) | 1997 | 24509.74 | 7.46 | 41.26 | Compact    |\n",
       "| Tino            | 2000 | 35354.97 | 8.20 | 54.10 | Compact    |\n",
       "| Prius (2nd Gen) | 2000 | 26832.25 | 7.97 | 45.23 | Compact    |\n",
       "| Insight         | 2000 | 18936.41 | 9.52 | 53.00 | Two Seater |\n",
       "| Civic (1st Gen) | 2001 | 25833.38 | 7.04 | 47.04 | Compact    |\n",
       "| Insight         | 2001 | 19036.71 | 9.52 | 53.00 | Two Seater |\n",
       "\n"
      ],
      "text/plain": [
       "  vehicle         year msrp     acceleration mpg   class     \n",
       "1 Prius (1st Gen) 1997 24509.74 7.46         41.26 Compact   \n",
       "2 Tino            2000 35354.97 8.20         54.10 Compact   \n",
       "3 Prius (2nd Gen) 2000 26832.25 7.97         45.23 Compact   \n",
       "4 Insight         2000 18936.41 9.52         53.00 Two Seater\n",
       "5 Civic (1st Gen) 2001 25833.38 7.04         47.04 Compact   \n",
       "6 Insight         2001 19036.71 9.52         53.00 Two Seater"
      ]
     },
     "metadata": {},
     "output_type": "display_data"
    }
   ],
   "source": [
    "hybrid = read.csv(\"hybrid.csv\")\n",
    "head(hybrid)"
   ]
  },
  {
   "cell_type": "markdown",
   "metadata": {},
   "source": [
    "*References: vehicle: model of the car, year: year of manufacture, msrp: manufacturer's suggested retail price in 2013 dollars, acceleration: acceleration rate in km per hour per second, mpg: fuel economy in miles per gallon, class: the model's class.*\n",
    "\n",
    "**Note: whenever we write an equal sign (=) in python, we are assigning somthing to a variable.**\n",
    "\n",
    "Let's visualize some of the data to see if we can spot a possible association!"
   ]
  },
  {
   "cell_type": "code",
   "execution_count": 18,
   "metadata": {},
   "outputs": [
    {
     "data": {
      "image/png": "[encoded data removed]",
      "text/plain": [
       "plot without title"
      ]
     },
     "metadata": {},
     "output_type": "display_data"
    }
   ],
   "source": [
    "ggplot(hybrid) +\n",
    "    geom_point(aes(x=acceleration, y=msrp))"
   ]
  },
  {
   "cell_type": "markdown",
   "metadata": {},
   "source": [
    "As we can see in the above scatter, there seems to be a positive association between acceleration and price. That is, cars with greater acceleration tend to cost more, on average; conversely, cars that cost more tend to have greater acceleration on average.\n",
    "\n",
    "What about miles per gallon and price? Do you expect a positive or negative association?"
   ]
  },
  {
   "cell_type": "code",
   "execution_count": 19,
   "metadata": {},
   "outputs": [
    {
     "data": {
      "image/png": "[encoded data removed]",
      "text/plain": [
       "plot without title"
      ]
     },
     "metadata": {},
     "output_type": "display_data"
    }
   ],
   "source": [
    "ggplot(hybrid) +\n",
    "    geom_point(aes(x=mpg, y=msrp))"
   ]
  },
  {
   "cell_type": "markdown",
   "metadata": {},
   "source": [
    "Along with the negative association, the scatter diagram of price versus efficiency shows a **non-linear relation** between the two variables, i.e., the points appear to be clustered around a curve, not around a straight line.\n",
    "\n",
    "Let's subset the data so that we're only looking at SUVs. Use what you learned in the previous notebook to choose only `SUV`s and then make a scatter plot of `mpg` and `msrp`:"
   ]
  },
  {
   "cell_type": "code",
   "execution_count": 61,
   "metadata": {},
   "outputs": [
    {
     "data": {
      "image/png": "[encoded data removed]",
      "text/plain": [
       "plot without title"
      ]
     },
     "metadata": {},
     "output_type": "display_data"
    }
   ],
   "source": [
    "ggplot(hybrid[hybrid$class == \"SUV\",]) +\n",
    "    geom_point(aes(x=mpg, y=msrp))"
   ]
  },
  {
   "cell_type": "markdown",
   "metadata": {},
   "source": [
    "---\n",
    "\n",
    "### The correlation coefficient - $r$\n",
    "\n",
    "> The correlation coefficient ranges from −1 to 1. A value of 1 implies that a linear equation describes the relationship between X and Y perfectly, with all data points lying on a line for which Y increases as X increases. A value of −1 implies that all data points lie on a line for which Y decreases as X increases. A value of 0 implies that there is no linear correlation between the variables. ~Wikipedia\n",
    "\n",
    "$r$ = 1: the scatter diagram is a perfect straight line sloping upwards\n",
    "\n",
    "$r$ = -1: the scatter diagram is a perfect straight line sloping downwards.\n",
    "\n",
    "Let's calculate the correlation coefficient between acceleration and price. We can use the `cor` function on the two variable (columns here) that we want to correlate:"
   ]
  },
  {
   "cell_type": "code",
   "execution_count": 20,
   "metadata": {},
   "outputs": [
    {
     "data": {
      "text/html": [
       "0.695577899691398"
      ],
      "text/latex": [
       "0.695577899691398"
      ],
      "text/markdown": [
       "0.695577899691398"
      ],
      "text/plain": [
       "[1] 0.6955779"
      ]
     },
     "metadata": {},
     "output_type": "display_data"
    }
   ],
   "source": [
    "cor(hybrid$acceleration, hybrid$msrp)"
   ]
  },
  {
   "cell_type": "markdown",
   "metadata": {},
   "source": [
    "---\n",
    "\n",
    "### Regression\n",
    "\n",
    "As mentioned earlier, an important tool in data science is to make predictions based on data. The code that we've created so far has helped us establish a relationship between our two variables. Once a relationship has been established, it's time to create a model that predicts unseen data values. To do this we'll find the equation of the **regression line**!\n",
    "\n",
    "The regression line is the **best fit** line for our data. It’s like an average of where all the points line up. In linear regression, the regression line is a perfectly straight line! Below is a picture showing the best fit line.\n",
    "\n",
    "![image](http://onlinestatbook.com/2/regression/graphics/gpa.jpg)\n",
    "\n",
    "As you can infer from the picture, once we find the **slope** and the **y-intercept** we can start predicting values! The equation for the above regression to predict university GPA based on high school GPA would look like this:\n",
    "\n",
    "$UNIGPA_i= \\alpha + \\beta HSGPA + \\epsilon_i$\n",
    "\n",
    "The variable we want to predict (or model) is the left side `y` variable, the variable which we think has an influence on our left side variable is on the right side. The $\\alpha$ term is the y-intercept and the $\\epsilon_i$ describes the randomness.\n",
    "\n",
    "We can fit the model by setting up an equation without the $\\alpha$ and $\\epsilon_i$ in the `formula` parameter of the function below, we'll give it our data variable in the `data` parameter. We'll try a model for:\n",
    "\n",
    "$MSRP_i= \\alpha + \\beta ACCELERATION + \\epsilon_i$"
   ]
  },
  {
   "cell_type": "code",
   "execution_count": 1,
   "metadata": {},
   "outputs": [
    {
     "ename": "ERROR",
     "evalue": "Error in is.data.frame(data): object 'hybrid' not found\n",
     "output_type": "error",
     "traceback": [
      "Error in is.data.frame(data): object 'hybrid' not found\nTraceback:\n",
      "1. lm(msrp ~ acceleration, data = hybrid)",
      "2. eval(mf, parent.frame())",
      "3. eval(mf, parent.frame())",
      "4. stats::model.frame(formula = msrp ~ acceleration, data = hybrid, \n .     drop.unused.levels = TRUE)",
      "5. model.frame.default(formula = msrp ~ acceleration, data = hybrid, \n .     drop.unused.levels = TRUE)",
      "6. is.data.frame(data)"
     ]
    }
   ],
   "source": [
    "mod = lm(msrp ~ acceleration, data=hybrid)\n",
    "summary(mod)"
   ]
  },
  {
   "cell_type": "markdown",
   "metadata": {},
   "source": [
    "That's a lot of information! While we should consider everything, we'll look at the `p` value, the `coef`, and the `R-squared`. A p-value of < .05 is generally considered to be statistically significant. The `coef` is how much increase one sees in the left side variable for a one unit increase of the right side variable. So for a 1 unit increase in acceleration one might see an increase of $5067 MSRP, according to our model. But how great is our model? That's the `R-squared`. The `R-squared` tells us how much of the variation in the data can be explained by our model, .484 isn't that bad, but obviously more goes into the MSRP value of a car than *just* acceleration.\n",
    "\n",
    "We can plot this line of \"best fit\" too:"
   ]
  },
  {
   "cell_type": "code",
   "execution_count": 54,
   "metadata": {},
   "outputs": [
    {
     "data": {
      "image/png": "[encoded data removed]",
      "text/plain": [
       "plot without title"
      ]
     },
     "metadata": {},
     "output_type": "display_data"
    }
   ],
   "source": [
    "ggplot(hybrid, aes(x=acceleration, y=msrp)) +\n",
    "    geom_point() +\n",
    "    geom_smooth(method=\"lm\", level=0)"
   ]
  },
  {
   "cell_type": "markdown",
   "metadata": {},
   "source": [
    "#### Covariate\n",
    "\n",
    "We might want to add another independent variable because we think it could influence our dependent variable. If we think `mpg` could have an influence and needs to be controlled for we just `+` add that to the equation. (NB: the example below would exhibit high [multicollinearity](https://en.wikipedia.org/wiki/Multicollinearity))\n",
    "\n",
    "$MSRP_i= \\alpha + \\beta ACCELERATION + \\beta MPG + \\epsilon_i$"
   ]
  },
  {
   "cell_type": "code",
   "execution_count": 44,
   "metadata": {},
   "outputs": [
    {
     "data": {
      "text/plain": [
       "\n",
       "Call:\n",
       "lm(formula = msrp ~ acceleration + mpg, data = hybrid)\n",
       "\n",
       "Residuals:\n",
       "   Min     1Q Median     3Q    Max \n",
       "-38594  -9073  -2244   7028  49402 \n",
       "\n",
       "Coefficients:\n",
       "             Estimate Std. Error t value Pr(>|t|)    \n",
       "(Intercept)    5796.5     8861.2   0.654 0.514019    \n",
       "acceleration   4176.4      474.2   8.807 2.91e-15 ***\n",
       "mpg            -471.9      127.1  -3.714 0.000287 ***\n",
       "---\n",
       "Signif. codes:  0 ‘***’ 0.001 ‘**’ 0.01 ‘*’ 0.05 ‘.’ 0.1 ‘ ’ 1\n",
       "\n",
       "Residual standard error: 14830 on 150 degrees of freedom\n",
       "Multiple R-squared:  0.5273,\tAdjusted R-squared:  0.521 \n",
       "F-statistic: 83.66 on 2 and 150 DF,  p-value: < 2.2e-16\n"
      ]
     },
     "metadata": {},
     "output_type": "display_data"
    }
   ],
   "source": [
    "mod.2 = lm(msrp ~ acceleration + mpg, data = hybrid)\n",
    "summary(mod.2)"
   ]
  },
  {
   "cell_type": "markdown",
   "metadata": {},
   "source": [
    "---\n",
    "\n",
    "We are going to walk through a brief example using the datasets that you will using. You will not be allowed to use this correlation for your project. However, the process for your project will be the same. Our goal is to make the project as seamless as possible for you. That being said, our example will be abbreviated so that you have some freedom to explore with your own data.\n",
    "\n",
    "First we are going to read in two datasets.\n",
    "\n",
    "`Implicit-Age-IAT.csv` gives us the implicit *age* bias according to FIPS code."
   ]
  },
  {
   "cell_type": "code",
   "execution_count": 46,
   "metadata": {},
   "outputs": [
    {
     "data": {
      "text/html": [
       "<table>\n",
       "<caption>A data.frame: 6 × 4</caption>\n",
       "<thead>\n",
       "\t<tr><th scope=col>FIPS</th><th scope=col>tyoung</th><th scope=col>told</th><th scope=col>D_biep_Young_Good_all</th></tr>\n",
       "\t<tr><th scope=col>&lt;int&gt;</th><th scope=col>&lt;dbl&gt;</th><th scope=col>&lt;dbl&gt;</th><th scope=col>&lt;dbl&gt;</th></tr>\n",
       "</thead>\n",
       "<tbody>\n",
       "\t<tr><td>10001</td><td>7.137821</td><td>7.173633</td><td>0.4626620</td></tr>\n",
       "\t<tr><td>10003</td><td>7.077230</td><td>6.882745</td><td>0.4397008</td></tr>\n",
       "\t<tr><td>10005</td><td>6.848315</td><td>6.960894</td><td>0.4459575</td></tr>\n",
       "\t<tr><td> 1001</td><td>7.050847</td><td>6.796610</td><td>0.5028144</td></tr>\n",
       "\t<tr><td> 1003</td><td>7.179039</td><td>7.041485</td><td>0.4573694</td></tr>\n",
       "\t<tr><td> 1005</td><td>7.285714</td><td>6.971429</td><td>0.3809695</td></tr>\n",
       "</tbody>\n",
       "</table>\n"
      ],
      "text/latex": [
       "A data.frame: 6 × 4\n",
       "\\begin{tabular}{r|llll}\n",
       " FIPS & tyoung & told & D\\_biep\\_Young\\_Good\\_all\\\\\n",
       " <int> & <dbl> & <dbl> & <dbl>\\\\\n",
       "\\hline\n",
       "\t 10001 & 7.137821 & 7.173633 & 0.4626620\\\\\n",
       "\t 10003 & 7.077230 & 6.882745 & 0.4397008\\\\\n",
       "\t 10005 & 6.848315 & 6.960894 & 0.4459575\\\\\n",
       "\t  1001 & 7.050847 & 6.796610 & 0.5028144\\\\\n",
       "\t  1003 & 7.179039 & 7.041485 & 0.4573694\\\\\n",
       "\t  1005 & 7.285714 & 6.971429 & 0.3809695\\\\\n",
       "\\end{tabular}\n"
      ],
      "text/markdown": [
       "\n",
       "A data.frame: 6 × 4\n",
       "\n",
       "| FIPS &lt;int&gt; | tyoung &lt;dbl&gt; | told &lt;dbl&gt; | D_biep_Young_Good_all &lt;dbl&gt; |\n",
       "|---|---|---|---|\n",
       "| 10001 | 7.137821 | 7.173633 | 0.4626620 |\n",
       "| 10003 | 7.077230 | 6.882745 | 0.4397008 |\n",
       "| 10005 | 6.848315 | 6.960894 | 0.4459575 |\n",
       "|  1001 | 7.050847 | 6.796610 | 0.5028144 |\n",
       "|  1003 | 7.179039 | 7.041485 | 0.4573694 |\n",
       "|  1005 | 7.285714 | 6.971429 | 0.3809695 |\n",
       "\n"
      ],
      "text/plain": [
       "  FIPS  tyoung   told     D_biep_Young_Good_all\n",
       "1 10001 7.137821 7.173633 0.4626620            \n",
       "2 10003 7.077230 6.882745 0.4397008            \n",
       "3 10005 6.848315 6.960894 0.4459575            \n",
       "4  1001 7.050847 6.796610 0.5028144            \n",
       "5  1003 7.179039 7.041485 0.4573694            \n",
       "6  1005 7.285714 6.971429 0.3809695            "
      ]
     },
     "metadata": {},
     "output_type": "display_data"
    }
   ],
   "source": [
    "age = read.csv(\"Implicit-Age_IAT.csv\")\n",
    "head(age)"
   ]
  },
  {
   "cell_type": "markdown",
   "metadata": {},
   "source": [
    "`Outcome-Heart-Attack-Mortality.csv` gives us the heart attack mortality count by year according to FIPS code."
   ]
  },
  {
   "cell_type": "code",
   "execution_count": 47,
   "metadata": {},
   "outputs": [
    {
     "data": {
      "text/html": [
       "<table>\n",
       "<caption>A data.frame: 6 × 6</caption>\n",
       "<thead>\n",
       "\t<tr><th scope=col>State</th><th scope=col>FIPS</th><th scope=col>County</th><th scope=col>Year</th><th scope=col>Heart_Attack_Mortality</th><th scope=col>Stability</th></tr>\n",
       "\t<tr><th scope=col>&lt;fct&gt;</th><th scope=col>&lt;int&gt;</th><th scope=col>&lt;fct&gt;</th><th scope=col>&lt;int&gt;</th><th scope=col>&lt;dbl&gt;</th><th scope=col>&lt;int&gt;</th></tr>\n",
       "</thead>\n",
       "<tbody>\n",
       "\t<tr><td>Alabama</td><td>1001</td><td>Autauga</td><td>2000</td><td>220.8</td><td>1</td></tr>\n",
       "\t<tr><td>Alabama</td><td>1001</td><td>Autauga</td><td>2001</td><td>100.7</td><td>1</td></tr>\n",
       "\t<tr><td>Alabama</td><td>1001</td><td>Autauga</td><td>2002</td><td> 68.2</td><td>1</td></tr>\n",
       "\t<tr><td>Alabama</td><td>1001</td><td>Autauga</td><td>2003</td><td> 66.7</td><td>1</td></tr>\n",
       "\t<tr><td>Alabama</td><td>1001</td><td>Autauga</td><td>2005</td><td> 63.2</td><td>1</td></tr>\n",
       "\t<tr><td>Alabama</td><td>1001</td><td>Autauga</td><td>2006</td><td> 68.3</td><td>1</td></tr>\n",
       "</tbody>\n",
       "</table>\n"
      ],
      "text/latex": [
       "A data.frame: 6 × 6\n",
       "\\begin{tabular}{r|llllll}\n",
       " State & FIPS & County & Year & Heart\\_Attack\\_Mortality & Stability\\\\\n",
       " <fct> & <int> & <fct> & <int> & <dbl> & <int>\\\\\n",
       "\\hline\n",
       "\t Alabama & 1001 & Autauga & 2000 & 220.8 & 1\\\\\n",
       "\t Alabama & 1001 & Autauga & 2001 & 100.7 & 1\\\\\n",
       "\t Alabama & 1001 & Autauga & 2002 &  68.2 & 1\\\\\n",
       "\t Alabama & 1001 & Autauga & 2003 &  66.7 & 1\\\\\n",
       "\t Alabama & 1001 & Autauga & 2005 &  63.2 & 1\\\\\n",
       "\t Alabama & 1001 & Autauga & 2006 &  68.3 & 1\\\\\n",
       "\\end{tabular}\n"
      ],
      "text/markdown": [
       "\n",
       "A data.frame: 6 × 6\n",
       "\n",
       "| State &lt;fct&gt; | FIPS &lt;int&gt; | County &lt;fct&gt; | Year &lt;int&gt; | Heart_Attack_Mortality &lt;dbl&gt; | Stability &lt;int&gt; |\n",
       "|---|---|---|---|---|---|\n",
       "| Alabama | 1001 | Autauga | 2000 | 220.8 | 1 |\n",
       "| Alabama | 1001 | Autauga | 2001 | 100.7 | 1 |\n",
       "| Alabama | 1001 | Autauga | 2002 |  68.2 | 1 |\n",
       "| Alabama | 1001 | Autauga | 2003 |  66.7 | 1 |\n",
       "| Alabama | 1001 | Autauga | 2005 |  63.2 | 1 |\n",
       "| Alabama | 1001 | Autauga | 2006 |  68.3 | 1 |\n",
       "\n"
      ],
      "text/plain": [
       "  State   FIPS County  Year Heart_Attack_Mortality Stability\n",
       "1 Alabama 1001 Autauga 2000 220.8                  1        \n",
       "2 Alabama 1001 Autauga 2001 100.7                  1        \n",
       "3 Alabama 1001 Autauga 2002  68.2                  1        \n",
       "4 Alabama 1001 Autauga 2003  66.7                  1        \n",
       "5 Alabama 1001 Autauga 2005  63.2                  1        \n",
       "6 Alabama 1001 Autauga 2006  68.3                  1        "
      ]
     },
     "metadata": {},
     "output_type": "display_data"
    }
   ],
   "source": [
    "heart = read.csv(\"Outcome-Heart-Attack-Mortality.csv\")\n",
    "head(heart)"
   ]
  },
  {
   "cell_type": "markdown",
   "metadata": {},
   "source": [
    "Keep in mind that all the functions/syntax that we are using are either in this notebook, or the previous one from lecture.\n",
    "\n",
    "Now, we are going to join the two tables together. We will be joining on the 'FIPS' column because that's the only one they have in common! That column is a unique identifier for counties. We are also going to drop duplicate rows from the table."
   ]
  },
  {
   "cell_type": "code",
   "execution_count": 49,
   "metadata": {},
   "outputs": [
    {
     "data": {
      "text/html": [
       "<table>\n",
       "<caption>A data.frame: 6 × 9</caption>\n",
       "<thead>\n",
       "\t<tr><th scope=col>FIPS</th><th scope=col>tyoung</th><th scope=col>told</th><th scope=col>D_biep_Young_Good_all</th><th scope=col>State</th><th scope=col>County</th><th scope=col>Year</th><th scope=col>Heart_Attack_Mortality</th><th scope=col>Stability</th></tr>\n",
       "\t<tr><th scope=col>&lt;int&gt;</th><th scope=col>&lt;dbl&gt;</th><th scope=col>&lt;dbl&gt;</th><th scope=col>&lt;dbl&gt;</th><th scope=col>&lt;fct&gt;</th><th scope=col>&lt;fct&gt;</th><th scope=col>&lt;int&gt;</th><th scope=col>&lt;dbl&gt;</th><th scope=col>&lt;int&gt;</th></tr>\n",
       "</thead>\n",
       "<tbody>\n",
       "\t<tr><td>1001</td><td>7.050847</td><td>6.79661</td><td>0.5028144</td><td>Alabama</td><td>Autauga</td><td>2001</td><td>100.7</td><td>1</td></tr>\n",
       "\t<tr><td>1001</td><td>7.050847</td><td>6.79661</td><td>0.5028144</td><td>Alabama</td><td>Autauga</td><td>2011</td><td> 88.5</td><td>1</td></tr>\n",
       "\t<tr><td>1001</td><td>7.050847</td><td>6.79661</td><td>0.5028144</td><td>Alabama</td><td>Autauga</td><td>2013</td><td> 84.7</td><td>1</td></tr>\n",
       "\t<tr><td>1001</td><td>7.050847</td><td>6.79661</td><td>0.5028144</td><td>Alabama</td><td>Autauga</td><td>2000</td><td>220.8</td><td>1</td></tr>\n",
       "\t<tr><td>1001</td><td>7.050847</td><td>6.79661</td><td>0.5028144</td><td>Alabama</td><td>Autauga</td><td>2014</td><td>144.8</td><td>1</td></tr>\n",
       "\t<tr><td>1001</td><td>7.050847</td><td>6.79661</td><td>0.5028144</td><td>Alabama</td><td>Autauga</td><td>2012</td><td> 33.9</td><td>0</td></tr>\n",
       "</tbody>\n",
       "</table>\n"
      ],
      "text/latex": [
       "A data.frame: 6 × 9\n",
       "\\begin{tabular}{r|lllllllll}\n",
       " FIPS & tyoung & told & D\\_biep\\_Young\\_Good\\_all & State & County & Year & Heart\\_Attack\\_Mortality & Stability\\\\\n",
       " <int> & <dbl> & <dbl> & <dbl> & <fct> & <fct> & <int> & <dbl> & <int>\\\\\n",
       "\\hline\n",
       "\t 1001 & 7.050847 & 6.79661 & 0.5028144 & Alabama & Autauga & 2001 & 100.7 & 1\\\\\n",
       "\t 1001 & 7.050847 & 6.79661 & 0.5028144 & Alabama & Autauga & 2011 &  88.5 & 1\\\\\n",
       "\t 1001 & 7.050847 & 6.79661 & 0.5028144 & Alabama & Autauga & 2013 &  84.7 & 1\\\\\n",
       "\t 1001 & 7.050847 & 6.79661 & 0.5028144 & Alabama & Autauga & 2000 & 220.8 & 1\\\\\n",
       "\t 1001 & 7.050847 & 6.79661 & 0.5028144 & Alabama & Autauga & 2014 & 144.8 & 1\\\\\n",
       "\t 1001 & 7.050847 & 6.79661 & 0.5028144 & Alabama & Autauga & 2012 &  33.9 & 0\\\\\n",
       "\\end{tabular}\n"
      ],
      "text/markdown": [
       "\n",
       "A data.frame: 6 × 9\n",
       "\n",
       "| FIPS &lt;int&gt; | tyoung &lt;dbl&gt; | told &lt;dbl&gt; | D_biep_Young_Good_all &lt;dbl&gt; | State &lt;fct&gt; | County &lt;fct&gt; | Year &lt;int&gt; | Heart_Attack_Mortality &lt;dbl&gt; | Stability &lt;int&gt; |\n",
       "|---|---|---|---|---|---|---|---|---|\n",
       "| 1001 | 7.050847 | 6.79661 | 0.5028144 | Alabama | Autauga | 2001 | 100.7 | 1 |\n",
       "| 1001 | 7.050847 | 6.79661 | 0.5028144 | Alabama | Autauga | 2011 |  88.5 | 1 |\n",
       "| 1001 | 7.050847 | 6.79661 | 0.5028144 | Alabama | Autauga | 2013 |  84.7 | 1 |\n",
       "| 1001 | 7.050847 | 6.79661 | 0.5028144 | Alabama | Autauga | 2000 | 220.8 | 1 |\n",
       "| 1001 | 7.050847 | 6.79661 | 0.5028144 | Alabama | Autauga | 2014 | 144.8 | 1 |\n",
       "| 1001 | 7.050847 | 6.79661 | 0.5028144 | Alabama | Autauga | 2012 |  33.9 | 0 |\n",
       "\n"
      ],
      "text/plain": [
       "  FIPS tyoung   told    D_biep_Young_Good_all State   County  Year\n",
       "1 1001 7.050847 6.79661 0.5028144             Alabama Autauga 2001\n",
       "2 1001 7.050847 6.79661 0.5028144             Alabama Autauga 2011\n",
       "3 1001 7.050847 6.79661 0.5028144             Alabama Autauga 2013\n",
       "4 1001 7.050847 6.79661 0.5028144             Alabama Autauga 2000\n",
       "5 1001 7.050847 6.79661 0.5028144             Alabama Autauga 2014\n",
       "6 1001 7.050847 6.79661 0.5028144             Alabama Autauga 2012\n",
       "  Heart_Attack_Mortality Stability\n",
       "1 100.7                  1        \n",
       "2  88.5                  1        \n",
       "3  84.7                  1        \n",
       "4 220.8                  1        \n",
       "5 144.8                  1        \n",
       "6  33.9                  0        "
      ]
     },
     "metadata": {},
     "output_type": "display_data"
    }
   ],
   "source": [
    "joined_data = merge(age, heart, by=\"FIPS\")\n",
    "head(joined_data)"
   ]
  },
  {
   "cell_type": "markdown",
   "metadata": {},
   "source": [
    "That's great! By displaying the table, we can get a general idea as to what columns exist, and what kind of relations we can try to analyze. \n",
    "\n",
    "One thing to notice is that there are a lot of data points! Our visualization and regression may be cleaner if we subset the data. Let's use the functions from the first notebook to subset the data to California data from 2010."
   ]
  },
  {
   "cell_type": "code",
   "execution_count": 50,
   "metadata": {},
   "outputs": [
    {
     "data": {
      "text/html": [
       "<table>\n",
       "<caption>A data.frame: 6 × 9</caption>\n",
       "<thead>\n",
       "\t<tr><th></th><th scope=col>FIPS</th><th scope=col>tyoung</th><th scope=col>told</th><th scope=col>D_biep_Young_Good_all</th><th scope=col>State</th><th scope=col>County</th><th scope=col>Year</th><th scope=col>Heart_Attack_Mortality</th><th scope=col>Stability</th></tr>\n",
       "\t<tr><th></th><th scope=col>&lt;int&gt;</th><th scope=col>&lt;dbl&gt;</th><th scope=col>&lt;dbl&gt;</th><th scope=col>&lt;dbl&gt;</th><th scope=col>&lt;fct&gt;</th><th scope=col>&lt;fct&gt;</th><th scope=col>&lt;int&gt;</th><th scope=col>&lt;dbl&gt;</th><th scope=col>&lt;int&gt;</th></tr>\n",
       "</thead>\n",
       "<tbody>\n",
       "\t<tr><th scope=row>2274</th><td>6001</td><td>6.960689</td><td>6.788260</td><td>0.4230264</td><td>California</td><td>Alameda     </td><td>2010</td><td>45.8</td><td>1</td></tr>\n",
       "\t<tr><th scope=row>2299</th><td>6005</td><td>6.575000</td><td>6.850000</td><td>0.4463566</td><td>California</td><td>Amador      </td><td>2010</td><td>78.6</td><td>1</td></tr>\n",
       "\t<tr><th scope=row>2314</th><td>6007</td><td>7.118924</td><td>7.046957</td><td>0.4421568</td><td>California</td><td>Butte       </td><td>2010</td><td>62.7</td><td>1</td></tr>\n",
       "\t<tr><th scope=row>2334</th><td>6009</td><td>7.650794</td><td>7.825397</td><td>0.4608068</td><td>California</td><td>Calaveras   </td><td>2010</td><td>99.5</td><td>1</td></tr>\n",
       "\t<tr><th scope=row>2339</th><td>6013</td><td>6.961881</td><td>6.876549</td><td>0.4185063</td><td>California</td><td>Contra Costa</td><td>2010</td><td>48.9</td><td>1</td></tr>\n",
       "\t<tr><th scope=row>2365</th><td>6015</td><td>7.000000</td><td>6.838710</td><td>0.4326595</td><td>California</td><td>Del Norte   </td><td>2010</td><td>75.8</td><td>1</td></tr>\n",
       "</tbody>\n",
       "</table>\n"
      ],
      "text/latex": [
       "A data.frame: 6 × 9\n",
       "\\begin{tabular}{r|lllllllll}\n",
       "  & FIPS & tyoung & told & D\\_biep\\_Young\\_Good\\_all & State & County & Year & Heart\\_Attack\\_Mortality & Stability\\\\\n",
       "  & <int> & <dbl> & <dbl> & <dbl> & <fct> & <fct> & <int> & <dbl> & <int>\\\\\n",
       "\\hline\n",
       "\t2274 & 6001 & 6.960689 & 6.788260 & 0.4230264 & California & Alameda      & 2010 & 45.8 & 1\\\\\n",
       "\t2299 & 6005 & 6.575000 & 6.850000 & 0.4463566 & California & Amador       & 2010 & 78.6 & 1\\\\\n",
       "\t2314 & 6007 & 7.118924 & 7.046957 & 0.4421568 & California & Butte        & 2010 & 62.7 & 1\\\\\n",
       "\t2334 & 6009 & 7.650794 & 7.825397 & 0.4608068 & California & Calaveras    & 2010 & 99.5 & 1\\\\\n",
       "\t2339 & 6013 & 6.961881 & 6.876549 & 0.4185063 & California & Contra Costa & 2010 & 48.9 & 1\\\\\n",
       "\t2365 & 6015 & 7.000000 & 6.838710 & 0.4326595 & California & Del Norte    & 2010 & 75.8 & 1\\\\\n",
       "\\end{tabular}\n"
      ],
      "text/markdown": [
       "\n",
       "A data.frame: 6 × 9\n",
       "\n",
       "| <!--/--> | FIPS &lt;int&gt; | tyoung &lt;dbl&gt; | told &lt;dbl&gt; | D_biep_Young_Good_all &lt;dbl&gt; | State &lt;fct&gt; | County &lt;fct&gt; | Year &lt;int&gt; | Heart_Attack_Mortality &lt;dbl&gt; | Stability &lt;int&gt; |\n",
       "|---|---|---|---|---|---|---|---|---|---|\n",
       "| 2274 | 6001 | 6.960689 | 6.788260 | 0.4230264 | California | Alameda      | 2010 | 45.8 | 1 |\n",
       "| 2299 | 6005 | 6.575000 | 6.850000 | 0.4463566 | California | Amador       | 2010 | 78.6 | 1 |\n",
       "| 2314 | 6007 | 7.118924 | 7.046957 | 0.4421568 | California | Butte        | 2010 | 62.7 | 1 |\n",
       "| 2334 | 6009 | 7.650794 | 7.825397 | 0.4608068 | California | Calaveras    | 2010 | 99.5 | 1 |\n",
       "| 2339 | 6013 | 6.961881 | 6.876549 | 0.4185063 | California | Contra Costa | 2010 | 48.9 | 1 |\n",
       "| 2365 | 6015 | 7.000000 | 6.838710 | 0.4326595 | California | Del Norte    | 2010 | 75.8 | 1 |\n",
       "\n"
      ],
      "text/plain": [
       "     FIPS tyoung   told     D_biep_Young_Good_all State      County       Year\n",
       "2274 6001 6.960689 6.788260 0.4230264             California Alameda      2010\n",
       "2299 6005 6.575000 6.850000 0.4463566             California Amador       2010\n",
       "2314 6007 7.118924 7.046957 0.4421568             California Butte        2010\n",
       "2334 6009 7.650794 7.825397 0.4608068             California Calaveras    2010\n",
       "2339 6013 6.961881 6.876549 0.4185063             California Contra Costa 2010\n",
       "2365 6015 7.000000 6.838710 0.4326595             California Del Norte    2010\n",
       "     Heart_Attack_Mortality Stability\n",
       "2274 45.8                   1        \n",
       "2299 78.6                   1        \n",
       "2314 62.7                   1        \n",
       "2334 99.5                   1        \n",
       "2339 48.9                   1        \n",
       "2365 75.8                   1        "
      ]
     },
     "metadata": {},
     "output_type": "display_data"
    }
   ],
   "source": [
    "joined_data = joined_data[joined_data$Year == 2010,]\n",
    "joined_data = joined_data[joined_data$State == \"California\",]\n",
    "head(joined_data)"
   ]
  },
  {
   "cell_type": "markdown",
   "metadata": {},
   "source": [
    "We now have a lot less points, which will hopefully make the visualization a bit cleaner.\n",
    "\n",
    "Let's make a simple scatter plot with a fit line to look at the relation between the category `D_biep_Young_Good_all` and `Heart_Attack_Mortality`. Remember, all these functions are either on Notebook 1 or Notebook 2!"
   ]
  },
  {
   "cell_type": "code",
   "execution_count": 53,
   "metadata": {},
   "outputs": [
    {
     "data": {
      "image/png": "[encoded data removed]",
      "text/plain": [
       "plot without title"
      ]
     },
     "metadata": {},
     "output_type": "display_data"
    }
   ],
   "source": [
    "ggplot(joined_data, aes(x=D_biep_Young_Good_all, y=Heart_Attack_Mortality)) +\n",
    "    geom_point() +\n",
    "    geom_smooth(method=\"lm\", level=0)"
   ]
  },
  {
   "cell_type": "markdown",
   "metadata": {},
   "source": [
    "As we can see, the correlation and subsequent linear fit do not seem to be good. That means that there is not an easily quantifiable relationship between implicit age bias and the heart attack mortality rate for that geographic region.\n",
    "\n",
    "Let's verify this quantitatively with an r-value calculation!"
   ]
  },
  {
   "cell_type": "code",
   "execution_count": 55,
   "metadata": {},
   "outputs": [
    {
     "data": {
      "text/html": [
       "-0.256659289209755"
      ],
      "text/latex": [
       "-0.256659289209755"
      ],
      "text/markdown": [
       "-0.256659289209755"
      ],
      "text/plain": [
       "[1] -0.2566593"
      ]
     },
     "metadata": {},
     "output_type": "display_data"
    }
   ],
   "source": [
    "cor(joined_data$D_biep_Young_Good_all, joined_data$Heart_Attack_Mortality)"
   ]
  },
  {
   "cell_type": "markdown",
   "metadata": {},
   "source": [
    "Our r-value is moderately negative, so we would *not* reject the null hypothesis and call this \"significant\". This indicates little to no correlation, similar to what our scatter plot predicited. \n",
    "\n",
    "Let us display a regression summary, just for practice!"
   ]
  },
  {
   "cell_type": "code",
   "execution_count": 58,
   "metadata": {},
   "outputs": [
    {
     "data": {
      "text/plain": [
       "\n",
       "Call:\n",
       "lm(formula = Heart_Attack_Mortality ~ D_biep_Young_Good_all, \n",
       "    data = joined_data)\n",
       "\n",
       "Residuals:\n",
       "   Min     1Q Median     3Q    Max \n",
       "-35.51 -13.29  -4.62  11.70  46.88 \n",
       "\n",
       "Coefficients:\n",
       "                      Estimate Std. Error t value Pr(>|t|)    \n",
       "(Intercept)             127.65      32.07   3.981 0.000237 ***\n",
       "D_biep_Young_Good_all  -138.72      76.19  -1.821 0.075045 .  \n",
       "---\n",
       "Signif. codes:  0 ‘***’ 0.001 ‘**’ 0.01 ‘*’ 0.05 ‘.’ 0.1 ‘ ’ 1\n",
       "\n",
       "Residual standard error: 20.06 on 47 degrees of freedom\n",
       "Multiple R-squared:  0.06587,\tAdjusted R-squared:  0.046 \n",
       "F-statistic: 3.314 on 1 and 47 DF,  p-value: 0.07505\n"
      ]
     },
     "metadata": {},
     "output_type": "display_data"
    }
   ],
   "source": [
    "mod.3 = lm(Heart_Attack_Mortality ~ D_biep_Young_Good_all, data=joined_data)\n",
    "summary(mod.3)"
   ]
  },
  {
   "cell_type": "markdown",
   "metadata": {},
   "source": [
    "A quick scan above shows an extremeley low R-squared and a high p-value, both of which imply that our model does not fit the data very well at all.\n",
    "\n",
    "That's it! By working through this module, you've learned how to **visually analyze your data**, **establish a correlation** by calculating the **correlation coefficient**, **set up a regression (with a covariate)**, and **find the regression line**!"
   ]
  }
 ],
 "metadata": {
  "kernelspec": {
   "display_name": "R",
   "language": "R",
   "name": "ir"
  },
  "language_info": {
   "codemirror_mode": "r",
   "file_extension": ".r",
   "mimetype": "text/x-r-source",
   "name": "R",
   "pygments_lexer": "r",
   "version": "3.5.1"
  },
  "toc": {
   "base_numbering": 1,
   "nav_menu": {},
   "number_sections": true,
   "sideBar": true,
   "skip_h1_title": false,
   "title_cell": "Table of Contents",
   "title_sidebar": "Contents",
   "toc_cell": false,
   "toc_position": {},
   "toc_section_display": true,
   "toc_window_display": false
  },
  "varInspector": {
   "cols": {
    "lenName": 16,
    "lenType": 16,
    "lenVar": 40
   },
   "kernels_config": {
    "python": {
     "delete_cmd_postfix": "",
     "delete_cmd_prefix": "del ",
     "library": "var_list.py",
     "varRefreshCmd": "print(var_dic_list())"
    },
    "r": {
     "delete_cmd_postfix": ") ",
     "delete_cmd_prefix": "rm(",
     "library": "var_list.r",
     "varRefreshCmd": "cat(var_dic_list()) "
    }
   },
   "types_to_exclude": [
    "module",
    "function",
    "builtin_function_or_method",
    "instance",
    "_Feature"
   ],
   "window_display": false
  }
 },
 "nbformat": 4,
 "nbformat_minor": 2
}
